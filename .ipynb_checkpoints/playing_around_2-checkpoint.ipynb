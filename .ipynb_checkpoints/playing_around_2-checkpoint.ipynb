{
 "cells": [
  {
   "cell_type": "code",
   "execution_count": null,
   "metadata": {},
   "outputs": [
    {
     "name": "stderr",
     "output_type": "stream",
     "text": [
      " 61%|██████    | 366490/601937 [00:01<00:01, 189254.50it/s]"
     ]
    }
   ],
   "source": [
    "%run -i 'process_wv.py' '../train_images/' '../../xView_train.geojson' -s 'train_1'"
   ]
  },
  {
   "cell_type": "code",
   "execution_count": 11,
   "metadata": {},
   "outputs": [
    {
     "name": "stdout",
     "output_type": "stream",
     "text": [
      "/Users/alvanchow/galvanize/xView_Capstone/train_images/data_utilities\r\n"
     ]
    }
   ],
   "source": [
    "!pwd .."
   ]
  },
  {
   "cell_type": "code",
   "execution_count": 6,
   "metadata": {},
   "outputs": [
    {
     "name": "stdout",
     "output_type": "stream",
     "text": [
      "EDA_Jupyter.ipynb                       \u001b[34mshape-detection_not_xview\u001b[m\u001b[m\r\n",
      "ImageNet_Baseline.ipynb                 \u001b[34mssd_mobilenet_v1_coco_2017_11_17\u001b[m\u001b[m\r\n",
      "\u001b[34mTensorFlow-Tutorials\u001b[m\u001b[m                    ssd_mobilenet_v1_coco_2017_11_17.tar.gz\r\n",
      "Tensorflow_introduction.ipynb           \u001b[34mtrain_images\u001b[m\u001b[m\r\n",
      "\u001b[34mbaseline-1.1\u001b[m\u001b[m                            \u001b[34mval_images\u001b[m\u001b[m\r\n",
      "\u001b[34mmodels\u001b[m\u001b[m                                  xView_Baseline.ipynb\r\n",
      "nothing_here_test.ipynb                 xView_train.geojson\r\n",
      "playing_around.ipynb\r\n"
     ]
    }
   ],
   "source": [
    "!ls ../../"
   ]
  },
  {
   "cell_type": "code",
   "execution_count": null,
   "metadata": {
    "collapsed": true
   },
   "outputs": [],
   "source": []
  }
 ],
 "metadata": {
  "kernelspec": {
   "display_name": "Python 3",
   "language": "python",
   "name": "python3"
  },
  "language_info": {
   "codemirror_mode": {
    "name": "ipython",
    "version": 3
   },
   "file_extension": ".py",
   "mimetype": "text/x-python",
   "name": "python",
   "nbconvert_exporter": "python",
   "pygments_lexer": "ipython3",
   "version": "3.6.3"
  }
 },
 "nbformat": 4,
 "nbformat_minor": 2
}
